{
  "nbformat": 4,
  "nbformat_minor": 0,
  "metadata": {
    "colab": {
      "name": "praktikum01.ipynb",
      "provenance": [],
      "collapsed_sections": [],
      "authorship_tag": "ABX9TyNCeAsOI5JmKmGFfPHDdeGl",
      "include_colab_link": true
    },
    "kernelspec": {
      "name": "python3",
      "display_name": "Python 3"
    },
    "language_info": {
      "name": "python"
    }
  },
  "cells": [
    {
      "cell_type": "markdown",
      "metadata": {
        "id": "view-in-github",
        "colab_type": "text"
      },
      "source": [
        "<a href=\"https://colab.research.google.com/github/marsani/MachineLearning-2021/blob/main/praktikum01.ipynb\" target=\"_parent\"><img src=\"https://colab.research.google.com/assets/colab-badge.svg\" alt=\"Open In Colab\"/></a>"
      ]
    },
    {
      "cell_type": "code",
      "metadata": {
        "id": "f1DDyc2_k4Dd",
        "colab": {
          "base_uri": "https://localhost:8080/"
        },
        "outputId": "8a719c16-ea7d-460d-94fc-4c2dfd690dd8"
      },
      "source": [
        "print(\"Hello world!!\")"
      ],
      "execution_count": null,
      "outputs": [
        {
          "output_type": "stream",
          "name": "stdout",
          "text": [
            "Hello world!!\n"
          ]
        }
      ]
    },
    {
      "cell_type": "code",
      "metadata": {
        "id": "_jeFx9JO7ZBR"
      },
      "source": [
        "height=1.89\n",
        "tall=True"
      ],
      "execution_count": null,
      "outputs": []
    },
    {
      "cell_type": "code",
      "metadata": {
        "colab": {
          "base_uri": "https://localhost:8080/"
        },
        "id": "6x8xhiRc84la",
        "outputId": "3271c093-bdae-4551-b640-3a7e9afa3273"
      },
      "source": [
        "height"
      ],
      "execution_count": null,
      "outputs": [
        {
          "output_type": "execute_result",
          "data": {
            "text/plain": [
              "1.89"
            ]
          },
          "metadata": {},
          "execution_count": 4
        }
      ]
    },
    {
      "cell_type": "code",
      "metadata": {
        "colab": {
          "base_uri": "https://localhost:8080/"
        },
        "id": "XG-c468K8_JD",
        "outputId": "277efeb5-c28c-4048-fb5f-e3ca17a049c1"
      },
      "source": [
        "tall"
      ],
      "execution_count": null,
      "outputs": [
        {
          "output_type": "execute_result",
          "data": {
            "text/plain": [
              "True"
            ]
          },
          "metadata": {},
          "execution_count": 5
        }
      ]
    },
    {
      "cell_type": "code",
      "metadata": {
        "colab": {
          "base_uri": "https://localhost:8080/"
        },
        "id": "hUDcrkCj9fG6",
        "outputId": "a6ad8da7-f604-4795-c552-81dd3b6d0919"
      },
      "source": [
        "'''list dapat Mengandung tipe data yg berbeda'''\n",
        "[1.89,1.67,1.78,1.68,1.98]"
      ],
      "execution_count": null,
      "outputs": [
        {
          "output_type": "execute_result",
          "data": {
            "text/plain": [
              "[1.89, 1.67, 1.78, 1.68, 1.98]"
            ]
          },
          "metadata": {},
          "execution_count": 7
        }
      ]
    },
    {
      "cell_type": "code",
      "metadata": {
        "colab": {
          "base_uri": "https://localhost:8080/"
        },
        "id": "pMqED-iW91IY",
        "outputId": "9012c804-0c95-49e8-f822-78dda82762b7"
      },
      "source": [
        "height = [1.84, 1.79, 1.82,1.90, 1.80]\n",
        "height"
      ],
      "execution_count": null,
      "outputs": [
        {
          "output_type": "execute_result",
          "data": {
            "text/plain": [
              "[1.84, 1.79, 1.82, 1.9, 1.8]"
            ]
          },
          "metadata": {},
          "execution_count": 8
        }
      ]
    },
    {
      "cell_type": "code",
      "metadata": {
        "colab": {
          "base_uri": "https://localhost:8080/"
        },
        "id": "_eDvSpre-Aqw",
        "outputId": "0d04d3df-8c86-4136-fb68-c60095054e0f"
      },
      "source": [
        "famz = [\"Abe\", 1.84, \"Beb\",1.79, \"Cory\", 1.82, \"Dad\", 1.90]\n",
        "famz"
      ],
      "execution_count": null,
      "outputs": [
        {
          "output_type": "execute_result",
          "data": {
            "text/plain": [
              "['Abe', 1.84, 'Beb', 1.79, 'Cory', 1.82, 'Dad', 1.9]"
            ]
          },
          "metadata": {},
          "execution_count": 11
        }
      ]
    },
    {
      "cell_type": "code",
      "metadata": {
        "id": "migjxtXQ-Ug3"
      },
      "source": [
        "'''contoh'''\n",
        "height = [1.84, 1.79, 1.82, 1.90, 1.80]\n",
        "weight = [66.5, 60.3, 64.7, 89.5, 69.8] "
      ],
      "execution_count": null,
      "outputs": []
    },
    {
      "cell_type": "code",
      "metadata": {
        "colab": {
          "base_uri": "https://localhost:8080/"
        },
        "id": "JflByKpK-mDJ",
        "outputId": "65bd84ea-2298-46f8-c9b8-a08d9ffb80f0"
      },
      "source": [
        "height"
      ],
      "execution_count": null,
      "outputs": [
        {
          "output_type": "execute_result",
          "data": {
            "text/plain": [
              "[1.84, 1.79, 1.82, 1.9, 1.8]"
            ]
          },
          "metadata": {},
          "execution_count": 15
        }
      ]
    },
    {
      "cell_type": "code",
      "metadata": {
        "colab": {
          "base_uri": "https://localhost:8080/"
        },
        "id": "fIpGyZhP-n5W",
        "outputId": "6e6ffa22-a193-4335-a33d-675d76416d3e"
      },
      "source": [
        "weight"
      ],
      "execution_count": null,
      "outputs": [
        {
          "output_type": "execute_result",
          "data": {
            "text/plain": [
              "[66.5, 60.3, 64.7, 89.5, 69.8]"
            ]
          },
          "metadata": {},
          "execution_count": 16
        }
      ]
    },
    {
      "cell_type": "code",
      "metadata": {
        "colab": {
          "base_uri": "https://localhost:8080/",
          "height": 163
        },
        "id": "T3lRpOxX-qWG",
        "outputId": "b8a91fe7-5f89-47aa-f427-acffde4c4d3d"
      },
      "source": [
        "weight / height ** 2"
      ],
      "execution_count": null,
      "outputs": [
        {
          "output_type": "error",
          "ename": "TypeError",
          "evalue": "ignored",
          "traceback": [
            "\u001b[0;31m---------------------------------------------------------------------------\u001b[0m",
            "\u001b[0;31mTypeError\u001b[0m                                 Traceback (most recent call last)",
            "\u001b[0;32m<ipython-input-19-6a4c0c70e3b9>\u001b[0m in \u001b[0;36m<module>\u001b[0;34m()\u001b[0m\n\u001b[0;32m----> 1\u001b[0;31m \u001b[0mweight\u001b[0m \u001b[0;34m/\u001b[0m \u001b[0mheight\u001b[0m \u001b[0;34m**\u001b[0m \u001b[0;36m2\u001b[0m\u001b[0;34m\u001b[0m\u001b[0;34m\u001b[0m\u001b[0m\n\u001b[0m",
            "\u001b[0;31mTypeError\u001b[0m: unsupported operand type(s) for ** or pow(): 'list' and 'int'"
          ]
        }
      ]
    },
    {
      "cell_type": "code",
      "metadata": {
        "colab": {
          "base_uri": "https://localhost:8080/"
        },
        "id": "ui76AUez_in2",
        "outputId": "3497395d-861a-449d-ade8-02fe0147c037"
      },
      "source": [
        "'''numpy'''\n",
        "import numpy as np\n",
        "np_height = np.array(height)\n",
        "np_height"
      ],
      "execution_count": null,
      "outputs": [
        {
          "output_type": "execute_result",
          "data": {
            "text/plain": [
              "array([1.84, 1.79, 1.82, 1.9 , 1.8 ])"
            ]
          },
          "metadata": {},
          "execution_count": 22
        }
      ]
    },
    {
      "cell_type": "code",
      "metadata": {
        "colab": {
          "base_uri": "https://localhost:8080/"
        },
        "id": "IUX1xU5b_5qE",
        "outputId": "3a7ac321-c8b4-42f5-bd21-b847ba6a026e"
      },
      "source": [
        "np_weight = np.array(weight)\n",
        "np_weight"
      ],
      "execution_count": null,
      "outputs": [
        {
          "output_type": "execute_result",
          "data": {
            "text/plain": [
              "array([66.5, 60.3, 64.7, 89.5, 69.8])"
            ]
          },
          "metadata": {},
          "execution_count": 23
        }
      ]
    },
    {
      "cell_type": "code",
      "metadata": {
        "colab": {
          "base_uri": "https://localhost:8080/"
        },
        "id": "q1BoL42sABBN",
        "outputId": "d80bc591-04f8-4b30-de28-0625fbbffa73"
      },
      "source": [
        "bmi = np_weight / np_height ** 2\n",
        "bmi"
      ],
      "execution_count": null,
      "outputs": [
        {
          "output_type": "execute_result",
          "data": {
            "text/plain": [
              "array([19.64201323, 18.81963734, 19.53266514, 24.79224377, 21.54320988])"
            ]
          },
          "metadata": {},
          "execution_count": 25
        }
      ]
    },
    {
      "cell_type": "code",
      "metadata": {
        "id": "PxuCi56KBC24"
      },
      "source": [
        "np_height = np.array([1.84, 1.79,1.82, 1.9, 1.8])\n",
        "np_weight = np.array([66.5, 60.3,64.7, 89.5, 69.8])"
      ],
      "execution_count": null,
      "outputs": []
    },
    {
      "cell_type": "code",
      "metadata": {
        "colab": {
          "base_uri": "https://localhost:8080/"
        },
        "id": "VnR9HtKOBGok",
        "outputId": "f2dc5797-72f3-4e64-aa5c-0ab39f44b81c"
      },
      "source": [
        "'''ndarray = n-dimensional array'''\n",
        "type(np_height)"
      ],
      "execution_count": null,
      "outputs": [
        {
          "output_type": "execute_result",
          "data": {
            "text/plain": [
              "numpy.ndarray"
            ]
          },
          "metadata": {},
          "execution_count": 29
        }
      ]
    },
    {
      "cell_type": "code",
      "metadata": {
        "colab": {
          "base_uri": "https://localhost:8080/"
        },
        "id": "sD_fIExzBRKH",
        "outputId": "478e7a63-5eb5-46ae-90bd-114e8197568a"
      },
      "source": [
        "type(np_weight)"
      ],
      "execution_count": null,
      "outputs": [
        {
          "output_type": "execute_result",
          "data": {
            "text/plain": [
              "numpy.ndarray"
            ]
          },
          "metadata": {},
          "execution_count": 28
        }
      ]
    },
    {
      "cell_type": "code",
      "metadata": {
        "colab": {
          "base_uri": "https://localhost:8080/"
        },
        "id": "cBhqz6qNBdrZ",
        "outputId": "22e8a2b7-06a4-4be5-e4b3-b3045ccc9b0c"
      },
      "source": [
        "np_2d = np.array([[1, 2, 3, 4, 5],[6, 7, 8, 9, 10]])\n",
        "np_2d"
      ],
      "execution_count": null,
      "outputs": [
        {
          "output_type": "execute_result",
          "data": {
            "text/plain": [
              "array([[ 1,  2,  3,  4,  5],\n",
              "       [ 6,  7,  8,  9, 10]])"
            ]
          },
          "metadata": {},
          "execution_count": 30
        }
      ]
    },
    {
      "cell_type": "code",
      "metadata": {
        "colab": {
          "base_uri": "https://localhost:8080/"
        },
        "id": "FA1pNX0XBkb2",
        "outputId": "34035b51-b357-434d-8613-373a7efdaf58"
      },
      "source": [
        "np_2d.shape"
      ],
      "execution_count": null,
      "outputs": [
        {
          "output_type": "execute_result",
          "data": {
            "text/plain": [
              "(2, 5)"
            ]
          },
          "metadata": {},
          "execution_count": 31
        }
      ]
    },
    {
      "cell_type": "markdown",
      "metadata": {
        "id": "lZ6Q8xFUqo5N"
      },
      "source": [
        "Salah satu library untuk Machine Learning, yaitu numpy"
      ]
    },
    {
      "cell_type": "code",
      "metadata": {
        "id": "3sHGRcDJqnZX"
      },
      "source": [
        "import numpy as np\n",
        "np_height = np.array([1.84, 1.79,1.82, 1.9, 1.8])\n",
        "np_weight = np.array([66.5, 60.3,64.7, 89.5, 69.8])"
      ],
      "execution_count": null,
      "outputs": []
    },
    {
      "cell_type": "code",
      "metadata": {
        "colab": {
          "base_uri": "https://localhost:8080/"
        },
        "id": "fGHJRfiTrDrL",
        "outputId": "b1a4bd9c-3ba6-4349-e506-c765876fcf85"
      },
      "source": [
        "type(np_height)"
      ],
      "execution_count": null,
      "outputs": [
        {
          "output_type": "execute_result",
          "data": {
            "text/plain": [
              "numpy.ndarray"
            ]
          },
          "metadata": {},
          "execution_count": 2
        }
      ]
    },
    {
      "cell_type": "code",
      "metadata": {
        "colab": {
          "base_uri": "https://localhost:8080/"
        },
        "id": "kYgtqH7CrG2c",
        "outputId": "5223375d-a88f-4266-dead-094cb8c06e3a"
      },
      "source": [
        "type(np_weight)"
      ],
      "execution_count": null,
      "outputs": [
        {
          "output_type": "execute_result",
          "data": {
            "text/plain": [
              "numpy.ndarray"
            ]
          },
          "metadata": {},
          "execution_count": 3
        }
      ]
    },
    {
      "cell_type": "code",
      "metadata": {
        "colab": {
          "base_uri": "https://localhost:8080/"
        },
        "id": "l8yONZaJrKeV",
        "outputId": "6b31bf2b-c8e0-4e55-e28e-d669622af6be"
      },
      "source": [
        "np_2d = np.array([[1, 2, 3, 4, 5],[6, 7, 8, 9, 10]])\n",
        "np_2d"
      ],
      "execution_count": null,
      "outputs": [
        {
          "output_type": "execute_result",
          "data": {
            "text/plain": [
              "array([[ 1,  2,  3,  4,  5],\n",
              "       [ 6,  7,  8,  9, 10]])"
            ]
          },
          "metadata": {},
          "execution_count": 5
        }
      ]
    },
    {
      "cell_type": "code",
      "metadata": {
        "colab": {
          "base_uri": "https://localhost:8080/"
        },
        "id": "ffYHYFTyrTR0",
        "outputId": "852f61ab-616b-4fc3-bec0-b0603af49bd0"
      },
      "source": [
        "np_2d.shape"
      ],
      "execution_count": null,
      "outputs": [
        {
          "output_type": "execute_result",
          "data": {
            "text/plain": [
              "(2, 5)"
            ]
          },
          "metadata": {},
          "execution_count": 6
        }
      ]
    },
    {
      "cell_type": "code",
      "metadata": {
        "id": "TDli8Crqshsz"
      },
      "source": [
        ""
      ],
      "execution_count": null,
      "outputs": []
    },
    {
      "cell_type": "markdown",
      "metadata": {
        "id": "UU-Vb0xFsiT_"
      },
      "source": [
        "Libary Pandas"
      ]
    },
    {
      "cell_type": "code",
      "metadata": {
        "colab": {
          "base_uri": "https://localhost:8080/"
        },
        "id": "mXXNrUdNslsb",
        "outputId": "2e8330d2-19cd-48b7-a96c-7f9180b41014"
      },
      "source": [
        "import numpy as np\n",
        "np.array([1, 2, 3, 4, 5])"
      ],
      "execution_count": null,
      "outputs": [
        {
          "output_type": "execute_result",
          "data": {
            "text/plain": [
              "array([1, 2, 3, 4, 5])"
            ]
          },
          "metadata": {},
          "execution_count": 7
        }
      ]
    },
    {
      "cell_type": "code",
      "metadata": {
        "colab": {
          "base_uri": "https://localhost:8080/"
        },
        "id": "gst1sns0s-kA",
        "outputId": "701c57ed-53d3-4dbd-a93e-a338121e62ae"
      },
      "source": [
        "np.array([[1, 2], [3, 4]])"
      ],
      "execution_count": null,
      "outputs": [
        {
          "output_type": "execute_result",
          "data": {
            "text/plain": [
              "array([[1, 2],\n",
              "       [3, 4]])"
            ]
          },
          "metadata": {},
          "execution_count": 8
        }
      ]
    },
    {
      "cell_type": "code",
      "metadata": {
        "colab": {
          "base_uri": "https://localhost:8080/"
        },
        "id": "5ihPeOUFt600",
        "outputId": "e8282ba9-6d94-4864-ee39-152b69245e55"
      },
      "source": [
        "'''series'''\n",
        "import pandas as pd \n",
        "import numpy as np \n",
        "data = pd.Series(['a','b','c','d']) \n",
        "data"
      ],
      "execution_count": null,
      "outputs": [
        {
          "output_type": "execute_result",
          "data": {
            "text/plain": [
              "0    a\n",
              "1    b\n",
              "2    c\n",
              "3    d\n",
              "dtype: object"
            ]
          },
          "metadata": {},
          "execution_count": 11
        }
      ]
    },
    {
      "cell_type": "code",
      "metadata": {
        "colab": {
          "base_uri": "https://localhost:8080/"
        },
        "id": "nMq5NKaHuINN",
        "outputId": "d03a5958-3a62-444c-8f15-f2e98e263fd8"
      },
      "source": [
        "np1 = np.array(['a','b','c','d']) \n",
        "data_np = pd.Series(np1)\n",
        "data_np"
      ],
      "execution_count": null,
      "outputs": [
        {
          "output_type": "execute_result",
          "data": {
            "text/plain": [
              "0    a\n",
              "1    b\n",
              "2    c\n",
              "3    d\n",
              "dtype: object"
            ]
          },
          "metadata": {},
          "execution_count": 12
        }
      ]
    },
    {
      "cell_type": "code",
      "metadata": {
        "colab": {
          "base_uri": "https://localhost:8080/",
          "height": 204
        },
        "id": "aDlh1l2NwNKJ",
        "outputId": "d2042883-0ff7-42e0-b010-b0b2368f739d"
      },
      "source": [
        "import pandas as pd\n",
        "Tab = pd.read_csv(\"/content/sample_data/Tab.csv\")\n",
        "Tab"
      ],
      "execution_count": null,
      "outputs": [
        {
          "output_type": "execute_result",
          "data": {
            "text/html": [
              "<div>\n",
              "<style scoped>\n",
              "    .dataframe tbody tr th:only-of-type {\n",
              "        vertical-align: middle;\n",
              "    }\n",
              "\n",
              "    .dataframe tbody tr th {\n",
              "        vertical-align: top;\n",
              "    }\n",
              "\n",
              "    .dataframe thead th {\n",
              "        text-align: right;\n",
              "    }\n",
              "</style>\n",
              "<table border=\"1\" class=\"dataframe\">\n",
              "  <thead>\n",
              "    <tr style=\"text-align: right;\">\n",
              "      <th></th>\n",
              "      <th>Unnamed: 0</th>\n",
              "      <th>Negara</th>\n",
              "      <th>Populasi</th>\n",
              "      <th>Area</th>\n",
              "      <th>Ibukota</th>\n",
              "    </tr>\n",
              "  </thead>\n",
              "  <tbody>\n",
              "    <tr>\n",
              "      <th>0</th>\n",
              "      <td>IN</td>\n",
              "      <td>Indonesia</td>\n",
              "      <td>250</td>\n",
              "      <td>123456</td>\n",
              "      <td>Jakarta</td>\n",
              "    </tr>\n",
              "    <tr>\n",
              "      <th>1</th>\n",
              "      <td>MA</td>\n",
              "      <td>Malaysia</td>\n",
              "      <td>25</td>\n",
              "      <td>3456</td>\n",
              "      <td>KL</td>\n",
              "    </tr>\n",
              "    <tr>\n",
              "      <th>2</th>\n",
              "      <td>SI</td>\n",
              "      <td>Singapura</td>\n",
              "      <td>15</td>\n",
              "      <td>456</td>\n",
              "      <td>Singapura</td>\n",
              "    </tr>\n",
              "    <tr>\n",
              "      <th>3</th>\n",
              "      <td>JP</td>\n",
              "      <td>Jepang</td>\n",
              "      <td>60</td>\n",
              "      <td>5678</td>\n",
              "      <td>Tokyo</td>\n",
              "    </tr>\n",
              "    <tr>\n",
              "      <th>4</th>\n",
              "      <td>TH</td>\n",
              "      <td>Thailand</td>\n",
              "      <td>45</td>\n",
              "      <td>678</td>\n",
              "      <td>Bangkok</td>\n",
              "    </tr>\n",
              "  </tbody>\n",
              "</table>\n",
              "</div>"
            ],
            "text/plain": [
              "  Unnamed: 0     Negara  Populasi    Area    Ibukota\n",
              "0         IN  Indonesia       250  123456    Jakarta\n",
              "1         MA   Malaysia        25    3456         KL\n",
              "2         SI  Singapura        15     456  Singapura\n",
              "3         JP     Jepang        60    5678      Tokyo\n",
              "4         TH   Thailand        45     678    Bangkok"
            ]
          },
          "metadata": {},
          "execution_count": 16
        }
      ]
    },
    {
      "cell_type": "code",
      "metadata": {
        "id": "yYlkPOjhwUXx"
      },
      "source": [
        ""
      ],
      "execution_count": null,
      "outputs": []
    },
    {
      "cell_type": "code",
      "metadata": {
        "id": "dKk_XPMdwRI-"
      },
      "source": [
        ""
      ],
      "execution_count": null,
      "outputs": []
    }
  ]
}