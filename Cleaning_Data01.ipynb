{
  "nbformat": 4,
  "nbformat_minor": 0,
  "metadata": {
    "colab": {
      "name": "Cleaning_Data01.ipynb",
      "provenance": [],
      "collapsed_sections": [],
      "mount_file_id": "1ksZCV-y07ly2_ShGLvD4t4hvBTTU0zE8",
      "authorship_tag": "ABX9TyMX2ScCNgIFFPr44wwWOUx7",
      "include_colab_link": true
    },
    "kernelspec": {
      "name": "python3",
      "display_name": "Python 3"
    },
    "language_info": {
      "name": "python"
    }
  },
  "cells": [
    {
      "cell_type": "markdown",
      "metadata": {
        "id": "view-in-github",
        "colab_type": "text"
      },
      "source": [
        "<a href=\"https://colab.research.google.com/github/marsani/MachineLearning-2021/blob/main/Cleaning_Data01.ipynb\" target=\"_parent\"><img src=\"https://colab.research.google.com/assets/colab-badge.svg\" alt=\"Open In Colab\"/></a>"
      ]
    },
    {
      "cell_type": "markdown",
      "metadata": {
        "id": "wXVyHuedwb0p"
      },
      "source": [
        "Data set sumber untuk Data Cleaning\n",
        "link di https://github.com/realpython/python-data-cleaning/tree/master/Datasets\n",
        "ada tiga file csv, yaitu :\n",
        "1. BL-Flickr-Images-Book.csv (Daftar Buku dari British Library),\n",
        "2. university_towns.txt (Kota lokasi Sekolah Tinggi di US dan\n",
        "3. olympics.csv (Partisipasi Semua Negara di Olimpiade Musim Dingin dan Musim Panas"
      ]
    },
    {
      "cell_type": "code",
      "metadata": {
        "id": "PRj7ohQXwaLm"
      },
      "source": [
        "#library pandas dan numpy\n",
        "import pandas as pd\n",
        "import numpy as np"
      ],
      "execution_count": 33,
      "outputs": []
    },
    {
      "cell_type": "code",
      "metadata": {
        "colab": {
          "base_uri": "https://localhost:8080/",
          "height": 519
        },
        "id": "MbEgxOcmxs9N",
        "outputId": "4d4b99dc-e58b-4ddc-cea9-c305d4587138"
      },
      "source": [
        "#baca dataset\n",
        "pd.set_option('display.max_rows', None)\n",
        "df=pd.read_csv('/content/drive/MyDrive/Dataset-2021/Cleaning/BL-Flickr-Images-Book.csv')\n",
        "df.head() #baca 5 data awal\n"
      ],
      "execution_count": 36,
      "outputs": [
        {
          "output_type": "execute_result",
          "data": {
            "text/html": [
              "<div>\n",
              "<style scoped>\n",
              "    .dataframe tbody tr th:only-of-type {\n",
              "        vertical-align: middle;\n",
              "    }\n",
              "\n",
              "    .dataframe tbody tr th {\n",
              "        vertical-align: top;\n",
              "    }\n",
              "\n",
              "    .dataframe thead th {\n",
              "        text-align: right;\n",
              "    }\n",
              "</style>\n",
              "<table border=\"1\" class=\"dataframe\">\n",
              "  <thead>\n",
              "    <tr style=\"text-align: right;\">\n",
              "      <th></th>\n",
              "      <th>Identifier</th>\n",
              "      <th>Edition Statement</th>\n",
              "      <th>Place of Publication</th>\n",
              "      <th>Date of Publication</th>\n",
              "      <th>Publisher</th>\n",
              "      <th>Title</th>\n",
              "      <th>Author</th>\n",
              "      <th>Contributors</th>\n",
              "      <th>Corporate Author</th>\n",
              "      <th>Corporate Contributors</th>\n",
              "      <th>Former owner</th>\n",
              "      <th>Engraver</th>\n",
              "      <th>Issuance type</th>\n",
              "      <th>Flickr URL</th>\n",
              "      <th>Shelfmarks</th>\n",
              "    </tr>\n",
              "  </thead>\n",
              "  <tbody>\n",
              "    <tr>\n",
              "      <th>0</th>\n",
              "      <td>206</td>\n",
              "      <td>NaN</td>\n",
              "      <td>London</td>\n",
              "      <td>1879 [1878]</td>\n",
              "      <td>S. Tinsley &amp; Co.</td>\n",
              "      <td>Walter Forbes. [A novel.] By A. A</td>\n",
              "      <td>A. A.</td>\n",
              "      <td>FORBES, Walter.</td>\n",
              "      <td>NaN</td>\n",
              "      <td>NaN</td>\n",
              "      <td>NaN</td>\n",
              "      <td>NaN</td>\n",
              "      <td>monographic</td>\n",
              "      <td>http://www.flickr.com/photos/britishlibrary/ta...</td>\n",
              "      <td>British Library HMNTS 12641.b.30.</td>\n",
              "    </tr>\n",
              "    <tr>\n",
              "      <th>1</th>\n",
              "      <td>216</td>\n",
              "      <td>NaN</td>\n",
              "      <td>London; Virtue &amp; Yorston</td>\n",
              "      <td>1868</td>\n",
              "      <td>Virtue &amp; Co.</td>\n",
              "      <td>All for Greed. [A novel. The dedication signed...</td>\n",
              "      <td>A., A. A.</td>\n",
              "      <td>BLAZE DE BURY, Marie Pauline Rose - Baroness</td>\n",
              "      <td>NaN</td>\n",
              "      <td>NaN</td>\n",
              "      <td>NaN</td>\n",
              "      <td>NaN</td>\n",
              "      <td>monographic</td>\n",
              "      <td>http://www.flickr.com/photos/britishlibrary/ta...</td>\n",
              "      <td>British Library HMNTS 12626.cc.2.</td>\n",
              "    </tr>\n",
              "    <tr>\n",
              "      <th>2</th>\n",
              "      <td>218</td>\n",
              "      <td>NaN</td>\n",
              "      <td>London</td>\n",
              "      <td>1869</td>\n",
              "      <td>Bradbury, Evans &amp; Co.</td>\n",
              "      <td>Love the Avenger. By the author of “All for Gr...</td>\n",
              "      <td>A., A. A.</td>\n",
              "      <td>BLAZE DE BURY, Marie Pauline Rose - Baroness</td>\n",
              "      <td>NaN</td>\n",
              "      <td>NaN</td>\n",
              "      <td>NaN</td>\n",
              "      <td>NaN</td>\n",
              "      <td>monographic</td>\n",
              "      <td>http://www.flickr.com/photos/britishlibrary/ta...</td>\n",
              "      <td>British Library HMNTS 12625.dd.1.</td>\n",
              "    </tr>\n",
              "    <tr>\n",
              "      <th>3</th>\n",
              "      <td>472</td>\n",
              "      <td>NaN</td>\n",
              "      <td>London</td>\n",
              "      <td>1851</td>\n",
              "      <td>James Darling</td>\n",
              "      <td>Welsh Sketches, chiefly ecclesiastical, to the...</td>\n",
              "      <td>A., E. S.</td>\n",
              "      <td>Appleyard, Ernest Silvanus.</td>\n",
              "      <td>NaN</td>\n",
              "      <td>NaN</td>\n",
              "      <td>NaN</td>\n",
              "      <td>NaN</td>\n",
              "      <td>monographic</td>\n",
              "      <td>http://www.flickr.com/photos/britishlibrary/ta...</td>\n",
              "      <td>British Library HMNTS 10369.bbb.15.</td>\n",
              "    </tr>\n",
              "    <tr>\n",
              "      <th>4</th>\n",
              "      <td>480</td>\n",
              "      <td>A new edition, revised, etc.</td>\n",
              "      <td>London</td>\n",
              "      <td>1857</td>\n",
              "      <td>Wertheim &amp; Macintosh</td>\n",
              "      <td>[The World in which I live, and my place in it...</td>\n",
              "      <td>A., E. S.</td>\n",
              "      <td>BROOME, John Henry.</td>\n",
              "      <td>NaN</td>\n",
              "      <td>NaN</td>\n",
              "      <td>NaN</td>\n",
              "      <td>NaN</td>\n",
              "      <td>monographic</td>\n",
              "      <td>http://www.flickr.com/photos/britishlibrary/ta...</td>\n",
              "      <td>British Library HMNTS 9007.d.28.</td>\n",
              "    </tr>\n",
              "  </tbody>\n",
              "</table>\n",
              "</div>"
            ],
            "text/plain": [
              "   Identifier  ...                           Shelfmarks\n",
              "0         206  ...    British Library HMNTS 12641.b.30.\n",
              "1         216  ...    British Library HMNTS 12626.cc.2.\n",
              "2         218  ...    British Library HMNTS 12625.dd.1.\n",
              "3         472  ...  British Library HMNTS 10369.bbb.15.\n",
              "4         480  ...     British Library HMNTS 9007.d.28.\n",
              "\n",
              "[5 rows x 15 columns]"
            ]
          },
          "metadata": {},
          "execution_count": 36
        }
      ]
    },
    {
      "cell_type": "markdown",
      "metadata": {
        "id": "3E78MHVhzaGK"
      },
      "source": [
        ""
      ]
    },
    {
      "cell_type": "code",
      "metadata": {
        "colab": {
          "base_uri": "https://localhost:8080/",
          "height": 299
        },
        "id": "fo26Dk3fze4Q",
        "outputId": "b6d8a662-e9f6-45b3-91c6-f562ad405d09"
      },
      "source": [
        "#deskripsi data\n",
        "df.describe()"
      ],
      "execution_count": 37,
      "outputs": [
        {
          "output_type": "execute_result",
          "data": {
            "text/html": [
              "<div>\n",
              "<style scoped>\n",
              "    .dataframe tbody tr th:only-of-type {\n",
              "        vertical-align: middle;\n",
              "    }\n",
              "\n",
              "    .dataframe tbody tr th {\n",
              "        vertical-align: top;\n",
              "    }\n",
              "\n",
              "    .dataframe thead th {\n",
              "        text-align: right;\n",
              "    }\n",
              "</style>\n",
              "<table border=\"1\" class=\"dataframe\">\n",
              "  <thead>\n",
              "    <tr style=\"text-align: right;\">\n",
              "      <th></th>\n",
              "      <th>Identifier</th>\n",
              "      <th>Corporate Author</th>\n",
              "      <th>Corporate Contributors</th>\n",
              "      <th>Engraver</th>\n",
              "    </tr>\n",
              "  </thead>\n",
              "  <tbody>\n",
              "    <tr>\n",
              "      <th>count</th>\n",
              "      <td>8.287000e+03</td>\n",
              "      <td>0.0</td>\n",
              "      <td>0.0</td>\n",
              "      <td>0.0</td>\n",
              "    </tr>\n",
              "    <tr>\n",
              "      <th>mean</th>\n",
              "      <td>2.017344e+06</td>\n",
              "      <td>NaN</td>\n",
              "      <td>NaN</td>\n",
              "      <td>NaN</td>\n",
              "    </tr>\n",
              "    <tr>\n",
              "      <th>std</th>\n",
              "      <td>1.190379e+06</td>\n",
              "      <td>NaN</td>\n",
              "      <td>NaN</td>\n",
              "      <td>NaN</td>\n",
              "    </tr>\n",
              "    <tr>\n",
              "      <th>min</th>\n",
              "      <td>2.060000e+02</td>\n",
              "      <td>NaN</td>\n",
              "      <td>NaN</td>\n",
              "      <td>NaN</td>\n",
              "    </tr>\n",
              "    <tr>\n",
              "      <th>25%</th>\n",
              "      <td>9.157875e+05</td>\n",
              "      <td>NaN</td>\n",
              "      <td>NaN</td>\n",
              "      <td>NaN</td>\n",
              "    </tr>\n",
              "    <tr>\n",
              "      <th>50%</th>\n",
              "      <td>2.043707e+06</td>\n",
              "      <td>NaN</td>\n",
              "      <td>NaN</td>\n",
              "      <td>NaN</td>\n",
              "    </tr>\n",
              "    <tr>\n",
              "      <th>75%</th>\n",
              "      <td>3.047430e+06</td>\n",
              "      <td>NaN</td>\n",
              "      <td>NaN</td>\n",
              "      <td>NaN</td>\n",
              "    </tr>\n",
              "    <tr>\n",
              "      <th>max</th>\n",
              "      <td>4.160339e+06</td>\n",
              "      <td>NaN</td>\n",
              "      <td>NaN</td>\n",
              "      <td>NaN</td>\n",
              "    </tr>\n",
              "  </tbody>\n",
              "</table>\n",
              "</div>"
            ],
            "text/plain": [
              "         Identifier  Corporate Author  Corporate Contributors  Engraver\n",
              "count  8.287000e+03               0.0                     0.0       0.0\n",
              "mean   2.017344e+06               NaN                     NaN       NaN\n",
              "std    1.190379e+06               NaN                     NaN       NaN\n",
              "min    2.060000e+02               NaN                     NaN       NaN\n",
              "25%    9.157875e+05               NaN                     NaN       NaN\n",
              "50%    2.043707e+06               NaN                     NaN       NaN\n",
              "75%    3.047430e+06               NaN                     NaN       NaN\n",
              "max    4.160339e+06               NaN                     NaN       NaN"
            ]
          },
          "metadata": {},
          "execution_count": 37
        }
      ]
    },
    {
      "cell_type": "markdown",
      "metadata": {
        "id": "2k78Caxjtes_"
      },
      "source": [
        "** Kita definisikan daftar (list) nama dari semua kolom yang ingin kita drop. Kemudian jalankan perintah fungsi drop(), dengan melewatkan parameter inplace bernilai True dan parameter axis bernilai 1 **\n"
      ]
    },
    {
      "cell_type": "code",
      "metadata": {
        "id": "AKFKYPot1fsU"
      },
      "source": [
        "#Drop Kolom\n",
        "to_drop=['Edition Statement',\n",
        "         'Corporate Author',\n",
        "         'Former owner',\n",
        "         'Engraver',\n",
        "         'Contributors',\n",
        "         'Issuance type',\n",
        "         'Shelfmarks']\n",
        "df.drop(to_drop,inplace=True,axis=1)\n"
      ],
      "execution_count": 38,
      "outputs": []
    },
    {
      "cell_type": "markdown",
      "metadata": {
        "id": "gCNxLcN0wLtq"
      },
      "source": [
        "Alternatif utk membuang kolom, dengan meneruskannya langsung ke parameter columns daripada memisahkan label-label yang mau dibuang:\n"
      ]
    },
    {
      "cell_type": "code",
      "metadata": {
        "id": "Iii2c9URv551"
      },
      "source": [
        "df.drop(columns=to_drop,inplace=True)"
      ],
      "execution_count": null,
      "outputs": []
    },
    {
      "cell_type": "code",
      "metadata": {
        "colab": {
          "base_uri": "https://localhost:8080/",
          "height": 309
        },
        "id": "71LV4SHP2Z8t",
        "outputId": "36ba9c9d-e743-48b5-be47-57ab08f5d3a7"
      },
      "source": [
        "df.head()"
      ],
      "execution_count": 39,
      "outputs": [
        {
          "output_type": "execute_result",
          "data": {
            "text/html": [
              "<div>\n",
              "<style scoped>\n",
              "    .dataframe tbody tr th:only-of-type {\n",
              "        vertical-align: middle;\n",
              "    }\n",
              "\n",
              "    .dataframe tbody tr th {\n",
              "        vertical-align: top;\n",
              "    }\n",
              "\n",
              "    .dataframe thead th {\n",
              "        text-align: right;\n",
              "    }\n",
              "</style>\n",
              "<table border=\"1\" class=\"dataframe\">\n",
              "  <thead>\n",
              "    <tr style=\"text-align: right;\">\n",
              "      <th></th>\n",
              "      <th>Identifier</th>\n",
              "      <th>Place of Publication</th>\n",
              "      <th>Date of Publication</th>\n",
              "      <th>Publisher</th>\n",
              "      <th>Title</th>\n",
              "      <th>Author</th>\n",
              "      <th>Corporate Contributors</th>\n",
              "      <th>Flickr URL</th>\n",
              "    </tr>\n",
              "  </thead>\n",
              "  <tbody>\n",
              "    <tr>\n",
              "      <th>0</th>\n",
              "      <td>206</td>\n",
              "      <td>London</td>\n",
              "      <td>1879 [1878]</td>\n",
              "      <td>S. Tinsley &amp; Co.</td>\n",
              "      <td>Walter Forbes. [A novel.] By A. A</td>\n",
              "      <td>A. A.</td>\n",
              "      <td>NaN</td>\n",
              "      <td>http://www.flickr.com/photos/britishlibrary/ta...</td>\n",
              "    </tr>\n",
              "    <tr>\n",
              "      <th>1</th>\n",
              "      <td>216</td>\n",
              "      <td>London; Virtue &amp; Yorston</td>\n",
              "      <td>1868</td>\n",
              "      <td>Virtue &amp; Co.</td>\n",
              "      <td>All for Greed. [A novel. The dedication signed...</td>\n",
              "      <td>A., A. A.</td>\n",
              "      <td>NaN</td>\n",
              "      <td>http://www.flickr.com/photos/britishlibrary/ta...</td>\n",
              "    </tr>\n",
              "    <tr>\n",
              "      <th>2</th>\n",
              "      <td>218</td>\n",
              "      <td>London</td>\n",
              "      <td>1869</td>\n",
              "      <td>Bradbury, Evans &amp; Co.</td>\n",
              "      <td>Love the Avenger. By the author of “All for Gr...</td>\n",
              "      <td>A., A. A.</td>\n",
              "      <td>NaN</td>\n",
              "      <td>http://www.flickr.com/photos/britishlibrary/ta...</td>\n",
              "    </tr>\n",
              "    <tr>\n",
              "      <th>3</th>\n",
              "      <td>472</td>\n",
              "      <td>London</td>\n",
              "      <td>1851</td>\n",
              "      <td>James Darling</td>\n",
              "      <td>Welsh Sketches, chiefly ecclesiastical, to the...</td>\n",
              "      <td>A., E. S.</td>\n",
              "      <td>NaN</td>\n",
              "      <td>http://www.flickr.com/photos/britishlibrary/ta...</td>\n",
              "    </tr>\n",
              "    <tr>\n",
              "      <th>4</th>\n",
              "      <td>480</td>\n",
              "      <td>London</td>\n",
              "      <td>1857</td>\n",
              "      <td>Wertheim &amp; Macintosh</td>\n",
              "      <td>[The World in which I live, and my place in it...</td>\n",
              "      <td>A., E. S.</td>\n",
              "      <td>NaN</td>\n",
              "      <td>http://www.flickr.com/photos/britishlibrary/ta...</td>\n",
              "    </tr>\n",
              "  </tbody>\n",
              "</table>\n",
              "</div>"
            ],
            "text/plain": [
              "   Identifier  ...                                         Flickr URL\n",
              "0         206  ...  http://www.flickr.com/photos/britishlibrary/ta...\n",
              "1         216  ...  http://www.flickr.com/photos/britishlibrary/ta...\n",
              "2         218  ...  http://www.flickr.com/photos/britishlibrary/ta...\n",
              "3         472  ...  http://www.flickr.com/photos/britishlibrary/ta...\n",
              "4         480  ...  http://www.flickr.com/photos/britishlibrary/ta...\n",
              "\n",
              "[5 rows x 8 columns]"
            ]
          },
          "metadata": {},
          "execution_count": 39
        }
      ]
    },
    {
      "cell_type": "code",
      "metadata": {
        "colab": {
          "base_uri": "https://localhost:8080/"
        },
        "id": "tTYISA9q2kzy",
        "outputId": "777ded75-1900-46d1-befa-5f40c142e5cb"
      },
      "source": [
        "#mengubah indeks pada dataframe\n",
        "df['Identifier'].is_unique"
      ],
      "execution_count": 40,
      "outputs": [
        {
          "output_type": "execute_result",
          "data": {
            "text/plain": [
              "True"
            ]
          },
          "metadata": {},
          "execution_count": 40
        }
      ]
    },
    {
      "cell_type": "code",
      "metadata": {
        "colab": {
          "base_uri": "https://localhost:8080/",
          "height": 340
        },
        "id": "DwZqTYYg22Ke",
        "outputId": "5d2bde3e-6bde-465c-8f63-4eb0a03aced3"
      },
      "source": [
        "df=df.set_index('Identifier')\n",
        "df.head()"
      ],
      "execution_count": 41,
      "outputs": [
        {
          "output_type": "execute_result",
          "data": {
            "text/html": [
              "<div>\n",
              "<style scoped>\n",
              "    .dataframe tbody tr th:only-of-type {\n",
              "        vertical-align: middle;\n",
              "    }\n",
              "\n",
              "    .dataframe tbody tr th {\n",
              "        vertical-align: top;\n",
              "    }\n",
              "\n",
              "    .dataframe thead th {\n",
              "        text-align: right;\n",
              "    }\n",
              "</style>\n",
              "<table border=\"1\" class=\"dataframe\">\n",
              "  <thead>\n",
              "    <tr style=\"text-align: right;\">\n",
              "      <th></th>\n",
              "      <th>Place of Publication</th>\n",
              "      <th>Date of Publication</th>\n",
              "      <th>Publisher</th>\n",
              "      <th>Title</th>\n",
              "      <th>Author</th>\n",
              "      <th>Corporate Contributors</th>\n",
              "      <th>Flickr URL</th>\n",
              "    </tr>\n",
              "    <tr>\n",
              "      <th>Identifier</th>\n",
              "      <th></th>\n",
              "      <th></th>\n",
              "      <th></th>\n",
              "      <th></th>\n",
              "      <th></th>\n",
              "      <th></th>\n",
              "      <th></th>\n",
              "    </tr>\n",
              "  </thead>\n",
              "  <tbody>\n",
              "    <tr>\n",
              "      <th>206</th>\n",
              "      <td>London</td>\n",
              "      <td>1879 [1878]</td>\n",
              "      <td>S. Tinsley &amp; Co.</td>\n",
              "      <td>Walter Forbes. [A novel.] By A. A</td>\n",
              "      <td>A. A.</td>\n",
              "      <td>NaN</td>\n",
              "      <td>http://www.flickr.com/photos/britishlibrary/ta...</td>\n",
              "    </tr>\n",
              "    <tr>\n",
              "      <th>216</th>\n",
              "      <td>London; Virtue &amp; Yorston</td>\n",
              "      <td>1868</td>\n",
              "      <td>Virtue &amp; Co.</td>\n",
              "      <td>All for Greed. [A novel. The dedication signed...</td>\n",
              "      <td>A., A. A.</td>\n",
              "      <td>NaN</td>\n",
              "      <td>http://www.flickr.com/photos/britishlibrary/ta...</td>\n",
              "    </tr>\n",
              "    <tr>\n",
              "      <th>218</th>\n",
              "      <td>London</td>\n",
              "      <td>1869</td>\n",
              "      <td>Bradbury, Evans &amp; Co.</td>\n",
              "      <td>Love the Avenger. By the author of “All for Gr...</td>\n",
              "      <td>A., A. A.</td>\n",
              "      <td>NaN</td>\n",
              "      <td>http://www.flickr.com/photos/britishlibrary/ta...</td>\n",
              "    </tr>\n",
              "    <tr>\n",
              "      <th>472</th>\n",
              "      <td>London</td>\n",
              "      <td>1851</td>\n",
              "      <td>James Darling</td>\n",
              "      <td>Welsh Sketches, chiefly ecclesiastical, to the...</td>\n",
              "      <td>A., E. S.</td>\n",
              "      <td>NaN</td>\n",
              "      <td>http://www.flickr.com/photos/britishlibrary/ta...</td>\n",
              "    </tr>\n",
              "    <tr>\n",
              "      <th>480</th>\n",
              "      <td>London</td>\n",
              "      <td>1857</td>\n",
              "      <td>Wertheim &amp; Macintosh</td>\n",
              "      <td>[The World in which I live, and my place in it...</td>\n",
              "      <td>A., E. S.</td>\n",
              "      <td>NaN</td>\n",
              "      <td>http://www.flickr.com/photos/britishlibrary/ta...</td>\n",
              "    </tr>\n",
              "  </tbody>\n",
              "</table>\n",
              "</div>"
            ],
            "text/plain": [
              "                Place of Publication  ...                                         Flickr URL\n",
              "Identifier                            ...                                                   \n",
              "206                           London  ...  http://www.flickr.com/photos/britishlibrary/ta...\n",
              "216         London; Virtue & Yorston  ...  http://www.flickr.com/photos/britishlibrary/ta...\n",
              "218                           London  ...  http://www.flickr.com/photos/britishlibrary/ta...\n",
              "472                           London  ...  http://www.flickr.com/photos/britishlibrary/ta...\n",
              "480                           London  ...  http://www.flickr.com/photos/britishlibrary/ta...\n",
              "\n",
              "[5 rows x 7 columns]"
            ]
          },
          "metadata": {},
          "execution_count": 41
        }
      ]
    },
    {
      "cell_type": "code",
      "metadata": {
        "id": "88msRiSdwcXB",
        "colab": {
          "base_uri": "https://localhost:8080/"
        },
        "outputId": "554165eb-75dc-4d98-bdc6-f1551d90cd44"
      },
      "source": [
        "#206 adalah label pertama dari indeks.\n",
        "df.loc[206]"
      ],
      "execution_count": 45,
      "outputs": [
        {
          "output_type": "execute_result",
          "data": {
            "text/plain": [
              "Place of Publication                                                 London\n",
              "Date of Publication                                             1879 [1878]\n",
              "Publisher                                                  S. Tinsley & Co.\n",
              "Title                                     Walter Forbes. [A novel.] By A. A\n",
              "Author                                                                A. A.\n",
              "Corporate Contributors                                                  NaN\n",
              "Flickr URL                http://www.flickr.com/photos/britishlibrary/ta...\n",
              "Name: 206, dtype: object"
            ]
          },
          "metadata": {},
          "execution_count": 45
        }
      ]
    },
    {
      "cell_type": "code",
      "metadata": {
        "id": "wULo5Wqlwliz"
      },
      "source": [
        "df.set_index('Identifier',inplace=True)"
      ],
      "execution_count": null,
      "outputs": []
    },
    {
      "cell_type": "code",
      "metadata": {
        "colab": {
          "base_uri": "https://localhost:8080/"
        },
        "id": "EaILj4xiw7LF",
        "outputId": "e362d1bd-bb17-45e0-993d-39674a531b9d"
      },
      "source": [
        "df.dtypes"
      ],
      "execution_count": 48,
      "outputs": [
        {
          "output_type": "execute_result",
          "data": {
            "text/plain": [
              "Place of Publication       object\n",
              "Date of Publication        object\n",
              "Publisher                  object\n",
              "Title                      object\n",
              "Author                     object\n",
              "Corporate Contributors    float64\n",
              "Flickr URL                 object\n",
              "dtype: object"
            ]
          },
          "metadata": {},
          "execution_count": 48
        }
      ]
    },
    {
      "cell_type": "code",
      "metadata": {
        "id": "32LWvy8Y22bf",
        "colab": {
          "base_uri": "https://localhost:8080/"
        },
        "outputId": "b1a3425c-9e61-42d9-80e1-995b157feae9"
      },
      "source": [
        "#df.get_dtype_counts()\n",
        "df.dtypes.value_counts()"
      ],
      "execution_count": 46,
      "outputs": [
        {
          "output_type": "execute_result",
          "data": {
            "text/plain": [
              "object     6\n",
              "float64    1\n",
              "dtype: int64"
            ]
          },
          "metadata": {},
          "execution_count": 46
        }
      ]
    },
    {
      "cell_type": "code",
      "metadata": {
        "id": "xCnGAOCHxAKI"
      },
      "source": [
        ""
      ],
      "execution_count": null,
      "outputs": []
    },
    {
      "cell_type": "code",
      "metadata": {
        "id": "kTEzHKkewsvp",
        "colab": {
          "base_uri": "https://localhost:8080/"
        },
        "outputId": "85a3e979-d520-4afc-d880-84a93c489847"
      },
      "source": [
        "#Merapihkan Fields dalam  Data\n",
        "#dibersihkan Date of Publication dan Place of Publication\n",
        "df.loc[1905:,'Date of Publication'].head(10)"
      ],
      "execution_count": 49,
      "outputs": [
        {
          "output_type": "execute_result",
          "data": {
            "text/plain": [
              "Identifier\n",
              "1905           1888\n",
              "1929    1839, 38-54\n",
              "2836           1897\n",
              "2854           1865\n",
              "2956        1860-63\n",
              "2957           1873\n",
              "3017           1866\n",
              "3131           1899\n",
              "4598           1814\n",
              "4884           1820\n",
              "Name: Date of Publication, dtype: object"
            ]
          },
          "metadata": {},
          "execution_count": 49
        }
      ]
    },
    {
      "cell_type": "markdown",
      "metadata": {
        "id": "tCz8n3xD36V6"
      },
      "source": [
        "Buku tertentu hanya memiliki satu tanggal publikasi\n",
        "- Hilangkan tanggal lain dalam kurung siku, 1879[1878]\n",
        "- Konversi rentang tanggal ke \"start date\", 1860-63; 1839, 38-54\n",
        "- Hilangkan tanggal yang tidak jelas dan gantikan dengan NaN NumPy, \n",
        "  [1879?] -> NaN\n",
        "- Konversi string nan ke nilai NaN NumPy"
      ]
    },
    {
      "cell_type": "code",
      "metadata": {
        "id": "gPu_4qUaxF0A",
        "colab": {
          "base_uri": "https://localhost:8080/",
          "height": 35
        },
        "outputId": "3cb2debb-070c-4835-bf7a-501b5086b91b"
      },
      "source": [
        "regex=r'^(\\d{4})' #reguler expreesion\n",
        "regex"
      ],
      "execution_count": 50,
      "outputs": [
        {
          "output_type": "execute_result",
          "data": {
            "application/vnd.google.colaboratory.intrinsic+json": {
              "type": "string"
            },
            "text/plain": [
              "'^(\\\\d{4})'"
            ]
          },
          "metadata": {},
          "execution_count": 50
        }
      ]
    },
    {
      "cell_type": "markdown",
      "metadata": {
        "id": "sh0ww3Hr4Z0B"
      },
      "source": [
        "- Perintah \\d mewakili sebarang digit dan {4} mengulangi aturan (rule) sebanyak empat kali. \n",
        "- Kararakter ^ sesuai dengan awal string, dan tanda dalam kurung () menunjukkan \n",
        "capturing group yang memberikan sinyal ke Pandas bahwa akan dilakukan ekstraksi \n",
        "bagian Regex tersebut"
      ]
    },
    {
      "cell_type": "code",
      "metadata": {
        "id": "SCE9bzLFtAW7",
        "colab": {
          "base_uri": "https://localhost:8080/"
        },
        "outputId": "dd8b217f-1fca-4efb-b580-6e5d8f48edf4"
      },
      "source": [
        "extr=df['Date of Publication'].str.extract(r'^(\\d{4})',expand=False)\n",
        "extr.head()"
      ],
      "execution_count": 51,
      "outputs": [
        {
          "output_type": "execute_result",
          "data": {
            "text/plain": [
              "Identifier\n",
              "206    1879\n",
              "216    1868\n",
              "218    1869\n",
              "472    1851\n",
              "480    1857\n",
              "Name: Date of Publication, dtype: object"
            ]
          },
          "metadata": {},
          "execution_count": 51
        }
      ]
    },
    {
      "cell_type": "code",
      "metadata": {
        "id": "_OzhD5IozNfu"
      },
      "source": [
        "extr"
      ],
      "execution_count": null,
      "outputs": []
    },
    {
      "cell_type": "markdown",
      "metadata": {
        "id": "DZp_8pej4u1X"
      },
      "source": [
        "- kolom tsb masih memiliki object dtype, namun dapat kita konversi numeriknya dengan perintah pd.to_numeric"
      ]
    },
    {
      "cell_type": "code",
      "metadata": {
        "id": "GOK2JXqu1oaA",
        "colab": {
          "base_uri": "https://localhost:8080/"
        },
        "outputId": "624446b6-a340-446f-fdea-c8d9cc506f96"
      },
      "source": [
        "df['Date of Publication']=pd.to_numeric(extr)\n",
        "df['Date of Publication'].dtype"
      ],
      "execution_count": 53,
      "outputs": [
        {
          "output_type": "execute_result",
          "data": {
            "text/plain": [
              "dtype('float64')"
            ]
          },
          "metadata": {},
          "execution_count": 53
        }
      ]
    },
    {
      "cell_type": "markdown",
      "metadata": {
        "id": "YDKCejib49Ug"
      },
      "source": [
        "- Ini menghasilkan sekitar 1/10 nilai yang hilang, cost yang cukup kecil \n",
        "dampaknya untuk saat ini karena dapat melakukan perhitungan pada nilai valid yang tersisa"
      ]
    },
    {
      "cell_type": "code",
      "metadata": {
        "id": "_IVnUMo51-_V",
        "colab": {
          "base_uri": "https://localhost:8080/"
        },
        "outputId": "aada1c0e-9ba8-43b4-93aa-52107cf11027"
      },
      "source": [
        "df['Date of Publication'].isnull().sum()\n",
        "#/len(df)"
      ],
      "execution_count": 55,
      "outputs": [
        {
          "output_type": "execute_result",
          "data": {
            "text/plain": [
              "971"
            ]
          },
          "metadata": {},
          "execution_count": 55
        }
      ]
    },
    {
      "cell_type": "code",
      "metadata": {
        "colab": {
          "base_uri": "https://localhost:8080/"
        },
        "id": "D4-_DIOizt_6",
        "outputId": "74ece4c5-e155-4355-c7a4-51e60080329b"
      },
      "source": [
        "len(df)"
      ],
      "execution_count": 56,
      "outputs": [
        {
          "output_type": "execute_result",
          "data": {
            "text/plain": [
              "8287"
            ]
          },
          "metadata": {},
          "execution_count": 56
        }
      ]
    },
    {
      "cell_type": "code",
      "metadata": {
        "colab": {
          "base_uri": "https://localhost:8080/"
        },
        "id": "oJ1IkL3AzynN",
        "outputId": "f31efbb7-bc7a-409d-daa2-13270ddce1fc"
      },
      "source": [
        "df['Date of Publication'].isnull().sum()/len(df)"
      ],
      "execution_count": 57,
      "outputs": [
        {
          "output_type": "execute_result",
          "data": {
            "text/plain": [
              "0.11717147339205986"
            ]
          },
          "metadata": {},
          "execution_count": 57
        }
      ]
    },
    {
      "cell_type": "markdown",
      "metadata": {
        "id": "EtRH22B85QLK"
      },
      "source": [
        "- Field place of publication masih ada informasi yang tidak penting. Jika \n",
        "dilihat lebih teliti, kasus ini untuk beberapa baris yang place of \n",
        "publication -nya di “London” dan “Oxford”.\n"
      ]
    },
    {
      "cell_type": "code",
      "metadata": {
        "id": "7KZnaqbM2Igv",
        "colab": {
          "base_uri": "https://localhost:8080/"
        },
        "outputId": "764c744d-63f3-429c-8b9d-049110efb681"
      },
      "source": [
        "df['Place of Publication'].head(10)"
      ],
      "execution_count": 58,
      "outputs": [
        {
          "output_type": "execute_result",
          "data": {
            "text/plain": [
              "Identifier\n",
              "206                                  London\n",
              "216                London; Virtue & Yorston\n",
              "218                                  London\n",
              "472                                  London\n",
              "480                                  London\n",
              "481                                  London\n",
              "519                                  London\n",
              "667     pp. 40. G. Bryan & Co: Oxford, 1898\n",
              "874                                 London]\n",
              "1143                                 London\n",
              "Name: Place of Publication, dtype: object"
            ]
          },
          "metadata": {},
          "execution_count": 58
        }
      ]
    },
    {
      "cell_type": "code",
      "metadata": {
        "id": "HHLgr9fQ2Zdd",
        "colab": {
          "base_uri": "https://localhost:8080/"
        },
        "outputId": "7fa096bd-acac-4b49-cd06-72e56013d0bb"
      },
      "source": [
        "df.loc[4157862]"
      ],
      "execution_count": 59,
      "outputs": [
        {
          "output_type": "execute_result",
          "data": {
            "text/plain": [
              "Place of Publication                                    Newcastle-upon-Tyne\n",
              "Date of Publication                                                    1867\n",
              "Publisher                                                        T. Fordyce\n",
              "Title                     Local Records; or, Historical Register of rema...\n",
              "Author                        FORDYCE, T. - Printer, of Newcastle-upon-Tyne\n",
              "Corporate Contributors                                                  NaN\n",
              "Flickr URL                http://www.flickr.com/photos/britishlibrary/ta...\n",
              "Name: 4157862, dtype: object"
            ]
          },
          "metadata": {},
          "execution_count": 59
        }
      ]
    },
    {
      "cell_type": "markdown",
      "metadata": {
        "id": "OyDF0d5-5k0-"
      },
      "source": [
        "- Gunakan str.contains() untuk mendapatkan Boolean mask"
      ]
    },
    {
      "cell_type": "code",
      "metadata": {
        "id": "g2NFaGn12fMM",
        "colab": {
          "base_uri": "https://localhost:8080/"
        },
        "outputId": "a9dde9ad-db46-42ef-d2a1-5f3e6698d8eb"
      },
      "source": [
        "pub=df['Place of Publication']\n",
        "london=pub.str.contains('London')\n",
        "london[:5]"
      ],
      "execution_count": 64,
      "outputs": [
        {
          "output_type": "execute_result",
          "data": {
            "text/plain": [
              "Identifier\n",
              "206    True\n",
              "216    True\n",
              "218    True\n",
              "472    True\n",
              "480    True\n",
              "Name: Place of Publication, dtype: bool"
            ]
          },
          "metadata": {},
          "execution_count": 64
        }
      ]
    },
    {
      "cell_type": "code",
      "metadata": {
        "id": "gzTuBjeQ0tuQ"
      },
      "source": [
        "pub=df['Place of Publication']\n",
        "london=pub.str.contains('London')\n",
        "london"
      ],
      "execution_count": null,
      "outputs": []
    },
    {
      "cell_type": "code",
      "metadata": {
        "id": "g5rqXGIM2v_7"
      },
      "source": [
        "oxford=pub.str.contains('Oxford')\n",
        "#np.where(london,'London',np.where(exford,'Oxford'))\n",
        "df['Place of Publication']= np.where(london, 'London',np.where(oxford,'Oxford',pub.str.replace('-',' ')))\n"
      ],
      "execution_count": 67,
      "outputs": []
    },
    {
      "cell_type": "code",
      "metadata": {
        "id": "l0CrU1uO3L1K",
        "colab": {
          "base_uri": "https://localhost:8080/"
        },
        "outputId": "f43928ac-7067-4927-c2d5-d0349df6e26a"
      },
      "source": [
        "df['Place of Publication'].head()"
      ],
      "execution_count": 68,
      "outputs": [
        {
          "output_type": "execute_result",
          "data": {
            "text/plain": [
              "Identifier\n",
              "206    London\n",
              "216    London\n",
              "218    London\n",
              "472    London\n",
              "480    London\n",
              "Name: Place of Publication, dtype: object"
            ]
          },
          "metadata": {},
          "execution_count": 68
        }
      ]
    },
    {
      "cell_type": "code",
      "metadata": {
        "id": "Rrdikv5L3SK5",
        "colab": {
          "base_uri": "https://localhost:8080/",
          "height": 340
        },
        "outputId": "88b92b41-f0fb-43e8-de13-8d12ea9bca69"
      },
      "source": [
        "df.head()"
      ],
      "execution_count": 69,
      "outputs": [
        {
          "output_type": "execute_result",
          "data": {
            "text/html": [
              "<div>\n",
              "<style scoped>\n",
              "    .dataframe tbody tr th:only-of-type {\n",
              "        vertical-align: middle;\n",
              "    }\n",
              "\n",
              "    .dataframe tbody tr th {\n",
              "        vertical-align: top;\n",
              "    }\n",
              "\n",
              "    .dataframe thead th {\n",
              "        text-align: right;\n",
              "    }\n",
              "</style>\n",
              "<table border=\"1\" class=\"dataframe\">\n",
              "  <thead>\n",
              "    <tr style=\"text-align: right;\">\n",
              "      <th></th>\n",
              "      <th>Place of Publication</th>\n",
              "      <th>Date of Publication</th>\n",
              "      <th>Publisher</th>\n",
              "      <th>Title</th>\n",
              "      <th>Author</th>\n",
              "      <th>Corporate Contributors</th>\n",
              "      <th>Flickr URL</th>\n",
              "    </tr>\n",
              "    <tr>\n",
              "      <th>Identifier</th>\n",
              "      <th></th>\n",
              "      <th></th>\n",
              "      <th></th>\n",
              "      <th></th>\n",
              "      <th></th>\n",
              "      <th></th>\n",
              "      <th></th>\n",
              "    </tr>\n",
              "  </thead>\n",
              "  <tbody>\n",
              "    <tr>\n",
              "      <th>206</th>\n",
              "      <td>London</td>\n",
              "      <td>1879.0</td>\n",
              "      <td>S. Tinsley &amp; Co.</td>\n",
              "      <td>Walter Forbes. [A novel.] By A. A</td>\n",
              "      <td>A. A.</td>\n",
              "      <td>NaN</td>\n",
              "      <td>http://www.flickr.com/photos/britishlibrary/ta...</td>\n",
              "    </tr>\n",
              "    <tr>\n",
              "      <th>216</th>\n",
              "      <td>London</td>\n",
              "      <td>1868.0</td>\n",
              "      <td>Virtue &amp; Co.</td>\n",
              "      <td>All for Greed. [A novel. The dedication signed...</td>\n",
              "      <td>A., A. A.</td>\n",
              "      <td>NaN</td>\n",
              "      <td>http://www.flickr.com/photos/britishlibrary/ta...</td>\n",
              "    </tr>\n",
              "    <tr>\n",
              "      <th>218</th>\n",
              "      <td>London</td>\n",
              "      <td>1869.0</td>\n",
              "      <td>Bradbury, Evans &amp; Co.</td>\n",
              "      <td>Love the Avenger. By the author of “All for Gr...</td>\n",
              "      <td>A., A. A.</td>\n",
              "      <td>NaN</td>\n",
              "      <td>http://www.flickr.com/photos/britishlibrary/ta...</td>\n",
              "    </tr>\n",
              "    <tr>\n",
              "      <th>472</th>\n",
              "      <td>London</td>\n",
              "      <td>1851.0</td>\n",
              "      <td>James Darling</td>\n",
              "      <td>Welsh Sketches, chiefly ecclesiastical, to the...</td>\n",
              "      <td>A., E. S.</td>\n",
              "      <td>NaN</td>\n",
              "      <td>http://www.flickr.com/photos/britishlibrary/ta...</td>\n",
              "    </tr>\n",
              "    <tr>\n",
              "      <th>480</th>\n",
              "      <td>London</td>\n",
              "      <td>1857.0</td>\n",
              "      <td>Wertheim &amp; Macintosh</td>\n",
              "      <td>[The World in which I live, and my place in it...</td>\n",
              "      <td>A., E. S.</td>\n",
              "      <td>NaN</td>\n",
              "      <td>http://www.flickr.com/photos/britishlibrary/ta...</td>\n",
              "    </tr>\n",
              "  </tbody>\n",
              "</table>\n",
              "</div>"
            ],
            "text/plain": [
              "           Place of Publication  ...                                         Flickr URL\n",
              "Identifier                       ...                                                   \n",
              "206                      London  ...  http://www.flickr.com/photos/britishlibrary/ta...\n",
              "216                      London  ...  http://www.flickr.com/photos/britishlibrary/ta...\n",
              "218                      London  ...  http://www.flickr.com/photos/britishlibrary/ta...\n",
              "472                      London  ...  http://www.flickr.com/photos/britishlibrary/ta...\n",
              "480                      London  ...  http://www.flickr.com/photos/britishlibrary/ta...\n",
              "\n",
              "[5 rows x 7 columns]"
            ]
          },
          "metadata": {},
          "execution_count": 69
        }
      ]
    },
    {
      "cell_type": "code",
      "metadata": {
        "id": "vgObkYMR3d9S"
      },
      "source": [
        "df.to_csv('/content/drive/MyDrive/Dataset-2021/Cleaning/data_cleaning1.csv')\n",
        "#df1=pd.read_csv('/content/drive/MyDrive/Dataset-2021/Cleaning/data_cleaning.csv')\n",
        "#df1.head() #baca 5 data awal"
      ],
      "execution_count": 71,
      "outputs": []
    }
  ]
}